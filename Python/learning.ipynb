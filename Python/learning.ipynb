{
 "cells": [
  {
   "cell_type": "markdown",
   "metadata": {},
   "source": [
    "# Variablen:\n",
    "- Integer\n",
    "- Float\n",
    "- String\n",
    "- Boolean\n",
    "\n",
    "#### Python erkennt durch zuweisung ' = ' welcher Datentyp dies ist, aber man kann einer Variablen durch ' : ' einen Datentypen zuweisen."
   ]
  },
  {
   "cell_type": "code",
   "execution_count": 2,
   "metadata": {},
   "outputs": [],
   "source": [
    "# Automatisch zugewiesen\n",
    "ganzzahl = 1\n",
    "kommazahl = 1.5\n",
    "string = \"Hallo Welt\"\n",
    "boolean = True\n",
    "\n",
    "# Manuel zugewiesen\n",
    "ganzzahl:int = 10\n",
    "kommazahl:float = .5\n",
    "string:str = \"Hallo du da\"\n",
    "boolean:bool = False\n"
   ]
  },
  {
   "cell_type": "markdown",
   "metadata": {},
   "source": [
    "# Listen bzw Arrays:\n",
    "\n",
    "### Eine Liste bzw. ein Array beinhaltet mehrere Objekte.\n",
    "#### Listen können verschiedene Datentypen beinhalten.\n",
    "#### Arrays haben einen festen Datentyp, fügt man einen anderen Datentypen hinzu, wird daraus eine Liste.\n",
    "#### Ob es eine Liste oder ein Array ist, sieht man wenn man mit der Maus über diese geht.\n",
    "\n",
    "- append // Fügt hinzu\n",
    "- remove // löscht einen Eintrag\n",
    "- pop // Entfernt den letzten Eintrag\n",
    "- clear // Leert die Liste/Array, man sieht ein []\n",
    "\n",
    "#### Anzahl Einträges einer Liste/Array\n",
    "- len()\n",
    "\n",
    "#### String zu einem Array umwandeln\n",
    "\n",
    "- split"
   ]
  },
  {
   "cell_type": "code",
   "execution_count": null,
   "metadata": {},
   "outputs": [],
   "source": [
    "# array : list[str]\n",
    "array = [\"Hallo\",\"Welt\"]\n",
    "\n",
    "# liste : list\n",
    "liste = [array, 1, \"Hallo\", True, .5]\n",
    "\n",
    "liste.append(\"Werde hinzugefügt\")\n",
    "liste.remove(array)\n",
    "liste.pop()\n",
    "\n",
    "# Man kann den entfernten Eintrag einer Variable übergeben\n",
    "pop = liste.pop()\n",
    "print(pop)\n",
    "\n",
    "# Löscht alle Einträge\n",
    "array.clear()\n",
    "print(array)\n",
    "\n",
    "# Anzahl Einträge in liste\n",
    "length = len(liste)\n",
    "print(length)\n",
    "\n",
    "string = \"Hallo Welt\"\n",
    "string_array = string.split(\" \") # Trennt das Array durch die Leerstelle im Text\n",
    "print(string_array)\n",
    "\n",
    "print(string_array[0]) # Zugriff auf den ersten Index des String Arrays, Hallo"
   ]
  },
  {
   "cell_type": "markdown",
   "metadata": {},
   "source": [
    "# Dictionary\n",
    "- #### {\"key\": \"value\"}\n",
    "- #### {\"key\": \"value\", \"key\": \"value\", \"key\": \"value\", ...}\n",
    "- ## Speichert Daten als Key und Value\n",
    "# Tupple\n",
    "- #### (\"apple\",\"banana\",\"cherry\")\n",
    "- ## Readonly, kann nicht verändert werden, erlaubt doppelte Werte\n",
    "# Set\n",
    "- #### {\"apple\",\"banana\",\"cherry\"}\n",
    "- ## Readonly, kann nicht verändert werden, entfernt doppelte Werte\n",
    "- ## Dictionaries hinzufügen funktioniert nicht"
   ]
  },
  {
   "cell_type": "code",
   "execution_count": null,
   "metadata": {},
   "outputs": [],
   "source": [
    "# Dictionary\n",
    "dictionary = {\"1\":\"Apple\", \"2\": \"Banana\"}\n",
    "dictionary[\"3\"] = \"Cherry\"\n",
    "\n",
    "print(\"Dictionary:\")\n",
    "print(dictionary)\n",
    "print(dictionary[\"1\"])\n",
    "\n",
    "# Tuple\n",
    "tuple_string = (\"Apple\",\"Banana\")\n",
    "tuple_mix = (\"Hallo\", 1, tuple_string, dictionary)\n",
    "print(\"Tuple:\")\n",
    "print(tuple_string)\n",
    "print(tuple_mix)\n",
    "\n",
    "# Set\n",
    "\n",
    "set_string = {\"Hallo\",\"Welt\"}\n",
    "set_mix = {\"Hallo\", 1, False, True, 0, 2, 0.2, tuple_string}\n",
    "print(\"Set:\")\n",
    "print(set_string)\n",
    "print(set_mix)"
   ]
  },
  {
   "cell_type": "markdown",
   "metadata": {},
   "source": [
    "# Print\n",
    "\n",
    "### Ausgabe in der Konsole\n",
    "- #### print(\"\")\n",
    "- #### print(variable, liste/array oder objekt)\n",
    "- #### print(\"\", variable, liste/array oder objekt)\n",
    "- #### print(f\"{variable, liste/array oder objekt}\") f string format"
   ]
  },
  {
   "cell_type": "code",
   "execution_count": null,
   "metadata": {},
   "outputs": [],
   "source": [
    "print(\"Hallo Welt\")\n",
    "\n",
    "string = \"Hi\"\n",
    "array = [\"Hallo\",\" Welt\"]\n",
    "\n",
    "print(string)\n",
    "print(array)\n",
    "\n",
    "print(\"Hi Hallo Hallöchen \", string)\n",
    "\n",
    "print(f\"Hi: {string}\")\n",
    "print(f\"Hi: {array}\")"
   ]
  },
  {
   "cell_type": "markdown",
   "metadata": {},
   "source": [
    "# Kontrollstrukturen\n",
    "\n",
    "## if, elif, else\n",
    "\n",
    "- #### if // Wenn\n",
    "- #### elif // Wenn dann\n",
    "- #### else // Ansonsten\n",
    "\n",
    "## Vergleichs Operatoren\n",
    "\n",
    "- #### > >= < <= == // Größer, Kleiner, Ist gleich\n",
    "- #### in // Beinhaltet\n",
    "- #### not // Nicht, statt !\n",
    "\n",
    "## Verknüpfen von Abfragen\n",
    "\n",
    "- #### and // Und, statt &&\n",
    "- #### or // Oder, statt ||"
   ]
  },
  {
   "cell_type": "code",
   "execution_count": null,
   "metadata": {},
   "outputs": [],
   "source": [
    "x = \"Hallo Welt\"\n",
    "\n",
    "int_array = [1,2,3,4,5,6]\n",
    "\n",
    "if x == \"Hallo Welt\":   # Wenn x ist gleich Hallo Welt\n",
    "    print()\n",
    "elif \"Hallo\" in x:      # Wenn dann ist Hallo in x vorhanden\n",
    "    print()\n",
    "else:                   # Ansonsten gebe dies aus\n",
    "    print()\n",
    "\n",
    "if \"Trauben\" not in x: # Wenn Trauben nicht in x vorhanden ist\n",
    "    print()\n",
    "\n",
    "if \"Hallo\" in x and \"Welt\" in x: # Wenn Hallo und Welt ist in x\n",
    "    print()\n",
    "\n",
    "if 1 in int_array: # Wenn 1 ist in Int Array\n",
    "    print()\n",
    "\n",
    "if not x == \"Guten Tag\": # Wenn ist nicht gleich\n",
    "    print()\n",
    "\n",
    "if len(x) > len(int_array): # Länge von x größer als Länge von int array\n",
    "    print()\n",
    "\n",
    "if len(x) >= len(int_array): # Länge von x größer gleich als Länge von int array\n",
    "    print()\n",
    "\n",
    "if len(x) < len(int_array): # Länge von x kleiner als Länge von int array\n",
    "    print()\n",
    "\n",
    "if len(x) <= len(int_array): # Länge von x kleiner gleich als Länge von int array\n",
    "    print()"
   ]
  },
  {
   "cell_type": "markdown",
   "metadata": {},
   "source": [
    "## Schleifen\n",
    "\n",
    "- #### while\n",
    "- #### for\n",
    "    - ##### for variable in list/array\n",
    "    - ##### for in range\n",
    "\n",
    "- ### Bedingungen:\n",
    "    - #### break\n",
    "    - #### continue"
   ]
  },
  {
   "cell_type": "code",
   "execution_count": null,
   "metadata": {},
   "outputs": [],
   "source": [
    "first_names = [\"Alex\", \"Dennis\", \"Christoph\", \"Maria\", \"Anton\"]\n",
    "\n",
    "index = 0\n",
    "\n",
    "# While Schleife läuft so lange wie die Bedingung stimmt\n",
    "# while True, wäre eine unendlich laufende Schleife\n",
    "while index < 10:\n",
    "    print(index)\n",
    "    index += 1\n",
    "# ähnlich wie for(i = 0; i < 10; i++) \n",
    "for i in range(10):\n",
    "    print(f\"for range: {i}\")\n",
    "\n",
    "# Startet bei 10 und 12 ist das Ende, gibt 10, 11 aus\n",
    "for i in range(10,12):\n",
    "    print(f\"for range 10-12: {i}\")\n",
    "\n",
    "# For Each Schleife, gibt jeden Eintrag aus der Liste/Array aus, bzw man erhält zugriff darauf\n",
    "for first_name in first_names:\n",
    "    print(first_name)\n",
    "\n",
    "# Bricht die Schleife ab wenn der vorname Alex ist\n",
    "for first_name in first_names:\n",
    "    if first_name == \"Alex\":\n",
    "        break\n",
    "\n",
    "# Überspringt alles nach dem If wenn der vorname Alex ist, print wird nicht ausgegeben\n",
    "for first_name in first_names:\n",
    "    if first_name == \"Alex\":\n",
    "        continue\n",
    "    print(\"Sieht Alex nicht :D\")\n",
    "\n",
    "# while true Schleife, diese wird abgebrochen, sobald index 10 ist\n",
    "index = 0\n",
    "while True:\n",
    "    if index == 10:\n",
    "        break\n",
    "    print(f\"index: {index}\")\n",
    "    index +=1"
   ]
  },
  {
   "cell_type": "markdown",
   "metadata": {},
   "source": [
    "# Methoden bzw Funktionen\n",
    "- ## def methoden_name()\n",
    "- ## def methoden_name(variable)"
   ]
  },
  {
   "cell_type": "code",
   "execution_count": null,
   "metadata": {},
   "outputs": [],
   "source": [
    "\n",
    "def print_something():\n",
    "    print(\"Something\")\n",
    "\n",
    "def add(a,b):\n",
    "    print(a + b)\n",
    "\n",
    "def multi(a:int, b:int):\n",
    "    print(a * b)"
   ]
  },
  {
   "cell_type": "markdown",
   "metadata": {},
   "source": [
    "# Daten Kapseln\n",
    "### Klassen in Python"
   ]
  },
  {
   "cell_type": "code",
   "execution_count": 12,
   "metadata": {},
   "outputs": [
    {
     "name": "stdout",
     "output_type": "stream",
     "text": [
      "2\n",
      "4\n"
     ]
    }
   ],
   "source": [
    "class Test_Calculator():\n",
    "    \n",
    "    def __init__(self):\n",
    "        pass\n",
    "\n",
    "    def add(self,a:int|float, b:int|float):\n",
    "        return a + b\n",
    "\n",
    "    def multi(self,a:int|float, b:int|float):\n",
    "        return a * b\n",
    "\n",
    "calc = Test_Calculator()\n",
    "\n",
    "result = calc.add(1,1)\n",
    "print(result)\n",
    "result = calc.multi(result, 2)\n",
    "print(result)"
   ]
  },
  {
   "cell_type": "markdown",
   "metadata": {},
   "source": [
    "## Arbeiten mit verschiedenen Python Dateien.\n",
    "\n",
    "- #### import <Bibliothekname>\n",
    "- #### from <Ordner>.<Dateiname> import <Klasse>"
   ]
  },
  {
   "cell_type": "code",
   "execution_count": null,
   "metadata": {},
   "outputs": [],
   "source": [
    "import os # Importiert die Bibliothek os und habe nun zugriff auf diese\n",
    "\n",
    "from learning_class import Calculator\n",
    "os.chdir(\"c:/windows\")\n",
    "\n",
    "calculator = Calculator()\n",
    "\n",
    "# Würde funktionieren, aber es geht gerade nicht\n",
    "# result = calculator.add(1,1)\n",
    "# print(result)\n",
    "# result = calculator.multi(result, 2)\n",
    "# print(result)"
   ]
  }
 ],
 "metadata": {
  "kernelspec": {
   "display_name": "Python 3",
   "language": "python",
   "name": "python3"
  },
  "language_info": {
   "codemirror_mode": {
    "name": "ipython",
    "version": 3
   },
   "file_extension": ".py",
   "mimetype": "text/x-python",
   "name": "python",
   "nbconvert_exporter": "python",
   "pygments_lexer": "ipython3",
   "version": "3.11.8"
  }
 },
 "nbformat": 4,
 "nbformat_minor": 2
}
